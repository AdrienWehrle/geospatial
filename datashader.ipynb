{
 "cells": [
  {
   "cell_type": "code",
   "execution_count": null,
   "metadata": {},
   "outputs": [],
   "source": [
    "import numpy as np\n",
    "import datashader as ds\n",
    "import datashader.transfer_functions as tf\n",
    "from datashader.colors import inferno, viridis\n",
    "from datashader.transfer_functions import set_background\n",
    "from colorcet import palette\n",
    "import pandas as pd\n",
    "import matplotlib.pyplot as plt\n",
    "\n",
    "import holoviews as hv\n",
    "from colorcet import fire\n",
    "import dask.dataframe as dd\n",
    "from colorcet import fire\n",
    "from holoviews.operation.datashader import datashade\n",
    "from geoviews.tile_sources import EsriImagery\n",
    "hv.extension('bokeh', 'matplotlib')\n",
    "from holoviews import opts\n",
    "\n",
    "# References\n",
    "# https://casyfill.github.io/posts/2016/08/big_data_mapping/\n",
    "# https://aetperf.github.io/2020/02/13/Lunch-break,-plotting-traffic-injuries-with-datashader.html"
   ]
  },
  {
   "cell_type": "markdown",
   "metadata": {},
   "source": [
    "# Process data"
   ]
  },
  {
   "cell_type": "code",
   "execution_count": null,
   "metadata": {},
   "outputs": [],
   "source": [
    "df = pd.read_parquet('data/geolife_trajectories_1_3.parquet')\n",
    "print(df.shape[0])\n",
    "df.head()"
   ]
  },
  {
   "cell_type": "markdown",
   "metadata": {},
   "source": [
    "# Visualize all the points"
   ]
  },
  {
   "cell_type": "code",
   "execution_count": null,
   "metadata": {},
   "outputs": [],
   "source": [
    "height_to_width = 1\n",
    "width = 600\n",
    "cvs = ds.Canvas(plot_width=width, plot_height=int(width*height_to_width))\n",
    "agg = cvs.points(df, 'lon', 'lat')\n",
    "\n",
    "img = tf.shade(agg,  cmap=palette[\"fire\"], how='log')\n",
    "set_background(img, 'black')"
   ]
  },
  {
   "cell_type": "markdown",
   "metadata": {},
   "source": [
    "## Zoom on city"
   ]
  },
  {
   "cell_type": "code",
   "execution_count": null,
   "metadata": {},
   "outputs": [],
   "source": [
    "height_to_width = 1\n",
    "width = 800\n",
    "cvs = ds.Canvas(\n",
    "    plot_width=width,\n",
    "    plot_height=int(width*height_to_width),\n",
    "    x_range=(116.2,116.5),\n",
    "    y_range=(39.8, 40.1),\n",
    ")\n",
    "agg = cvs.points(df, 'lon', 'lat')\n",
    "\n",
    "img = tf.shade(agg,  cmap=palette[\"fire\"], how='log')\n",
    "img = set_background(img, 'black')\n",
    "img"
   ]
  },
  {
   "cell_type": "markdown",
   "metadata": {},
   "source": [
    "## Interactive plot using holoviews"
   ]
  },
  {
   "cell_type": "code",
   "execution_count": null,
   "metadata": {},
   "outputs": [],
   "source": [
    "%opts RGB [bgcolor='black']\n",
    "hv.output(size=300)\n",
    "\n",
    "pts = hv.Points(df, ['lon', 'lat'])\n",
    "positions = datashade(\n",
    "    pts,\n",
    "    cmap=fire,\n",
    "    width=1000,\n",
    "    height=1000,\n",
    "    #x_sampling=0.00004,\n",
    "    #y_sampling=0.00002,\n",
    ")\n",
    "positions"
   ]
  }
 ],
 "metadata": {
  "kernelspec": {
   "display_name": "Python 3",
   "language": "python",
   "name": "python3"
  },
  "language_info": {
   "codemirror_mode": {
    "name": "ipython",
    "version": 3
   },
   "file_extension": ".py",
   "mimetype": "text/x-python",
   "name": "python",
   "nbconvert_exporter": "python",
   "pygments_lexer": "ipython3",
   "version": "3.7.3"
  }
 },
 "nbformat": 4,
 "nbformat_minor": 4
}
