{
 "cells": [
  {
   "cell_type": "code",
   "execution_count": 19,
   "metadata": {},
   "outputs": [],
   "source": [
    "import numpy as np\n",
    "import tqdm\n",
    "import pandas as pd\n",
    "import pydeck as pdk\n",
    "import os\n",
    "\n",
    "os.environ['MAPBOX_API_KEY'] = \"...\" # Input something"
   ]
  },
  {
   "cell_type": "markdown",
   "metadata": {},
   "source": [
    "# Process data"
   ]
  },
  {
   "cell_type": "code",
   "execution_count": 2,
   "metadata": {},
   "outputs": [
    {
     "name": "stdout",
     "output_type": "stream",
     "text": [
      "24876978\n"
     ]
    },
    {
     "data": {
      "text/html": [
       "<div>\n",
       "<style scoped>\n",
       "    .dataframe tbody tr th:only-of-type {\n",
       "        vertical-align: middle;\n",
       "    }\n",
       "\n",
       "    .dataframe tbody tr th {\n",
       "        vertical-align: top;\n",
       "    }\n",
       "\n",
       "    .dataframe thead th {\n",
       "        text-align: right;\n",
       "    }\n",
       "</style>\n",
       "<table border=\"1\" class=\"dataframe\">\n",
       "  <thead>\n",
       "    <tr style=\"text-align: right;\">\n",
       "      <th></th>\n",
       "      <th>lat</th>\n",
       "      <th>lon</th>\n",
       "      <th>datetime</th>\n",
       "      <th>altitude_meters</th>\n",
       "      <th>tripId</th>\n",
       "      <th>userId</th>\n",
       "    </tr>\n",
       "  </thead>\n",
       "  <tbody>\n",
       "    <tr>\n",
       "      <th>0</th>\n",
       "      <td>22.816448</td>\n",
       "      <td>108.332067</td>\n",
       "      <td>2009-02-04 09:57:32</td>\n",
       "      <td>0.0</td>\n",
       "      <td>023_20090204095732</td>\n",
       "      <td>023</td>\n",
       "    </tr>\n",
       "    <tr>\n",
       "      <th>1</th>\n",
       "      <td>22.815663</td>\n",
       "      <td>108.332210</td>\n",
       "      <td>2009-02-04 09:57:37</td>\n",
       "      <td>0.0</td>\n",
       "      <td>023_20090204095732</td>\n",
       "      <td>023</td>\n",
       "    </tr>\n",
       "    <tr>\n",
       "      <th>2</th>\n",
       "      <td>22.815722</td>\n",
       "      <td>108.332180</td>\n",
       "      <td>2009-02-04 09:57:42</td>\n",
       "      <td>0.0</td>\n",
       "      <td>023_20090204095732</td>\n",
       "      <td>023</td>\n",
       "    </tr>\n",
       "    <tr>\n",
       "      <th>3</th>\n",
       "      <td>22.815742</td>\n",
       "      <td>108.332167</td>\n",
       "      <td>2009-02-04 09:57:47</td>\n",
       "      <td>0.0</td>\n",
       "      <td>023_20090204095732</td>\n",
       "      <td>023</td>\n",
       "    </tr>\n",
       "    <tr>\n",
       "      <th>4</th>\n",
       "      <td>22.815738</td>\n",
       "      <td>108.332145</td>\n",
       "      <td>2009-02-04 09:57:52</td>\n",
       "      <td>0.0</td>\n",
       "      <td>023_20090204095732</td>\n",
       "      <td>023</td>\n",
       "    </tr>\n",
       "  </tbody>\n",
       "</table>\n",
       "</div>"
      ],
      "text/plain": [
       "         lat         lon            datetime  altitude_meters  \\\n",
       "0  22.816448  108.332067 2009-02-04 09:57:32              0.0   \n",
       "1  22.815663  108.332210 2009-02-04 09:57:37              0.0   \n",
       "2  22.815722  108.332180 2009-02-04 09:57:42              0.0   \n",
       "3  22.815742  108.332167 2009-02-04 09:57:47              0.0   \n",
       "4  22.815738  108.332145 2009-02-04 09:57:52              0.0   \n",
       "\n",
       "               tripId userId  \n",
       "0  023_20090204095732    023  \n",
       "1  023_20090204095732    023  \n",
       "2  023_20090204095732    023  \n",
       "3  023_20090204095732    023  \n",
       "4  023_20090204095732    023  "
      ]
     },
     "execution_count": 2,
     "metadata": {},
     "output_type": "execute_result"
    }
   ],
   "source": [
    "df = pd.read_parquet('data/geolife_trajectories_1_3.parquet')\n",
    "print(df.shape[0])\n",
    "df.head()"
   ]
  },
  {
   "cell_type": "markdown",
   "metadata": {},
   "source": [
    "# Pydeck - deck.gl python binding\n",
    "\n",
    "The pydeck library is a set of Python bindings for making spatial visualizations with deck.gl, optimized for a Jupyter Notebook environment.\n",
    "\n",
    "Lots of examples here: https://github.com/uber/deck.gl/tree/master/bindings/pydeck/examples\n"
   ]
  },
  {
   "cell_type": "markdown",
   "metadata": {},
   "source": [
    "# Load the data into pydeck layers\n",
    "\n",
    "Very long list of different visualizations: \n",
    "\n",
    "ArcLayer\n",
    "BitmapLayer\n",
    "ColumnLayer\n",
    "ContourLayer\n",
    "GeoJsonLayer\n",
    "HeatmapLayer\n",
    "IconLayer\n",
    "LineLayer\n",
    "PathLayer\n",
    "PointCloudLayer\n",
    "PolygonLayer\n",
    "SolidPolygonLayer\n",
    "ScatterplotLayer\n",
    "TextLayer\n",
    "GPUGridLayeradvanced\n",
    "GreatCircleLayer\n",
    "CPUGridLayeradvanced\n",
    "GridCellLayer\n",
    "HexagonLayer\n",
    "H3ClusterLayer\n",
    "H3HexagonLayer\n",
    "GridLayer\n",
    "S2Layer\n",
    "ScenegraphLayer\n",
    "ScreenGridLayer\n",
    "SimpleMeshLayer\n",
    "TileLayer\n",
    "Tile3DLayer\n",
    "TripsLayer\n"
   ]
  },
  {
   "cell_type": "code",
   "execution_count": 32,
   "metadata": {},
   "outputs": [
    {
     "data": {
      "text/html": [
       "<div>\n",
       "<style scoped>\n",
       "    .dataframe tbody tr th:only-of-type {\n",
       "        vertical-align: middle;\n",
       "    }\n",
       "\n",
       "    .dataframe tbody tr th {\n",
       "        vertical-align: top;\n",
       "    }\n",
       "\n",
       "    .dataframe thead th {\n",
       "        text-align: right;\n",
       "    }\n",
       "</style>\n",
       "<table border=\"1\" class=\"dataframe\">\n",
       "  <thead>\n",
       "    <tr style=\"text-align: right;\">\n",
       "      <th></th>\n",
       "      <th>lat</th>\n",
       "      <th>lon</th>\n",
       "      <th>altitude_meters</th>\n",
       "    </tr>\n",
       "  </thead>\n",
       "  <tbody>\n",
       "    <tr>\n",
       "      <th>count</th>\n",
       "      <td>500000.000000</td>\n",
       "      <td>500000.000000</td>\n",
       "      <td>500000.000000</td>\n",
       "    </tr>\n",
       "    <tr>\n",
       "      <th>mean</th>\n",
       "      <td>37.181423</td>\n",
       "      <td>115.329815</td>\n",
       "      <td>69.139782</td>\n",
       "    </tr>\n",
       "    <tr>\n",
       "      <th>std</th>\n",
       "      <td>6.047095</td>\n",
       "      <td>2.740063</td>\n",
       "      <td>99.874137</td>\n",
       "    </tr>\n",
       "    <tr>\n",
       "      <th>min</th>\n",
       "      <td>22.798702</td>\n",
       "      <td>108.253305</td>\n",
       "      <td>-1560.880800</td>\n",
       "    </tr>\n",
       "    <tr>\n",
       "      <th>25%</th>\n",
       "      <td>39.890345</td>\n",
       "      <td>116.308790</td>\n",
       "      <td>28.041600</td>\n",
       "    </tr>\n",
       "    <tr>\n",
       "      <th>50%</th>\n",
       "      <td>39.984248</td>\n",
       "      <td>116.348631</td>\n",
       "      <td>45.720000</td>\n",
       "    </tr>\n",
       "    <tr>\n",
       "      <th>75%</th>\n",
       "      <td>40.052690</td>\n",
       "      <td>116.417070</td>\n",
       "      <td>70.408800</td>\n",
       "    </tr>\n",
       "    <tr>\n",
       "      <th>max</th>\n",
       "      <td>47.669300</td>\n",
       "      <td>122.467933</td>\n",
       "      <td>1769.973600</td>\n",
       "    </tr>\n",
       "  </tbody>\n",
       "</table>\n",
       "</div>"
      ],
      "text/plain": [
       "                 lat            lon  altitude_meters\n",
       "count  500000.000000  500000.000000    500000.000000\n",
       "mean       37.181423     115.329815        69.139782\n",
       "std         6.047095       2.740063        99.874137\n",
       "min        22.798702     108.253305     -1560.880800\n",
       "25%        39.890345     116.308790        28.041600\n",
       "50%        39.984248     116.348631        45.720000\n",
       "75%        40.052690     116.417070        70.408800\n",
       "max        47.669300     122.467933      1769.973600"
      ]
     },
     "execution_count": 32,
     "metadata": {},
     "output_type": "execute_result"
    }
   ],
   "source": [
    "# Make a smaller dataframe due to memory restraints\n",
    "df_small = df.head(500_000)\n",
    "df_smaller = df.head(5_000)\n",
    "\n",
    "df_small.describe()"
   ]
  },
  {
   "cell_type": "code",
   "execution_count": 24,
   "metadata": {},
   "outputs": [],
   "source": [
    "layer_hex = pdk.Layer(\n",
    "    'HexagonLayer',\n",
    "    df_small,\n",
    "    get_position=['lon', 'lat'],\n",
    "    auto_highlight=True,\n",
    "    elevation_scale=50,\n",
    "    pickable=True,\n",
    "    elevation_range=[0, 3000],\n",
    "    extruded=True,\n",
    "    coverage=1)\n",
    "\n",
    "view_state = pdk.data_utils.compute_view(points=df_small[['lon', 'lat']], view_proportion=0.9)"
   ]
  },
  {
   "cell_type": "code",
   "execution_count": 25,
   "metadata": {},
   "outputs": [],
   "source": [
    "layer_scatter = pdk.Layer(\n",
    "    'ScatterplotLayer',\n",
    "    df_smaller,\n",
    "    get_radius=500,\n",
    "    get_fill_color='color',\n",
    "    get_position=['lon', 'lat'])\n",
    "\n",
    "view_state = pdk.data_utils.compute_view(points=df_smaller[['lon', 'lat']], view_proportion=0.9)"
   ]
  },
  {
   "cell_type": "code",
   "execution_count": 26,
   "metadata": {},
   "outputs": [],
   "source": [
    "layer_pointcloud = pdk.Layer(\n",
    "    'PointCloudLayer',\n",
    "    df_small[['lon', 'lat', 'altitude_meters']],\n",
    "    get_position='@@=[lon, lat, altitude_meters]',\n",
    "    get_normal=[0, 0, 1],\n",
    "    get_color=[255, 0, 100, 200],\n",
    "    pickable=True,  \n",
    "    auto_highlight=True,\n",
    "    point_size=1)\n",
    "\n",
    "view_state = pdk.data_utils.compute_view(points=df_small[['lon', 'lat']], view_proportion=0.9)"
   ]
  },
  {
   "cell_type": "code",
   "execution_count": 29,
   "metadata": {},
   "outputs": [],
   "source": [
    "# Set the viewport location\n",
    "\n",
    "view_state.max_pitch = 360\n",
    "view_state.pitch = 40\n",
    "view_state.bearing = 120\n"
   ]
  },
  {
   "cell_type": "code",
   "execution_count": 33,
   "metadata": {},
   "outputs": [
    {
     "data": {
      "text/html": [
       "\n",
       "        <iframe\n",
       "            width=\"700\"\n",
       "            height=\"500\"\n",
       "            src=\"./data/pydeck.html\"\n",
       "            frameborder=\"0\"\n",
       "            allowfullscreen\n",
       "        ></iframe>\n",
       "        "
      ],
      "text/plain": [
       "<IPython.lib.display.IFrame at 0x7f3c206523c8>"
      ]
     },
     "metadata": {},
     "output_type": "display_data"
    },
    {
     "data": {
      "text/plain": [
       "'/home/tjansson/code/geospatial/data/pydeck.html'"
      ]
     },
     "execution_count": 33,
     "metadata": {},
     "output_type": "execute_result"
    }
   ],
   "source": [
    "# Render\n",
    "# r = pdk.Deck(layers=[layer_scatter], initial_view_state=view_state)\n",
    "r = pdk.Deck(layers=[layer_hex], initial_view_state=view_state)\n",
    "# r = pdk.Deck(layers=[layer_pointcloud], initial_view_state=view_state)\n",
    "\n",
    "# Save ouput to a file\n",
    "r.to_html('data/pydeck.html')"
   ]
  },
  {
   "cell_type": "code",
   "execution_count": null,
   "metadata": {},
   "outputs": [],
   "source": []
  }
 ],
 "metadata": {
  "kernelspec": {
   "display_name": "Python 3",
   "language": "python",
   "name": "python3"
  },
  "language_info": {
   "codemirror_mode": {
    "name": "ipython",
    "version": 3
   },
   "file_extension": ".py",
   "mimetype": "text/x-python",
   "name": "python",
   "nbconvert_exporter": "python",
   "pygments_lexer": "ipython3",
   "version": "3.7.3"
  }
 },
 "nbformat": 4,
 "nbformat_minor": 4
}
