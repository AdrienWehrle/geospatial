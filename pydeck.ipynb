{
 "cells": [
  {
   "cell_type": "code",
   "execution_count": 1,
   "metadata": {},
   "outputs": [],
   "source": [
    "import numpy as np\n",
    "import tqdm\n",
    "import pandas as pd\n",
    "import pydeck as pdk"
   ]
  },
  {
   "cell_type": "markdown",
   "metadata": {},
   "source": [
    "# Process data"
   ]
  },
  {
   "cell_type": "code",
   "execution_count": 2,
   "metadata": {},
   "outputs": [
    {
     "name": "stdout",
     "output_type": "stream",
     "text": [
      "24876978\n"
     ]
    },
    {
     "data": {
      "text/html": [
       "<div>\n",
       "<style scoped>\n",
       "    .dataframe tbody tr th:only-of-type {\n",
       "        vertical-align: middle;\n",
       "    }\n",
       "\n",
       "    .dataframe tbody tr th {\n",
       "        vertical-align: top;\n",
       "    }\n",
       "\n",
       "    .dataframe thead th {\n",
       "        text-align: right;\n",
       "    }\n",
       "</style>\n",
       "<table border=\"1\" class=\"dataframe\">\n",
       "  <thead>\n",
       "    <tr style=\"text-align: right;\">\n",
       "      <th></th>\n",
       "      <th>lat</th>\n",
       "      <th>lon</th>\n",
       "      <th>datetime</th>\n",
       "      <th>altitude_meters</th>\n",
       "      <th>tripId</th>\n",
       "      <th>userId</th>\n",
       "    </tr>\n",
       "  </thead>\n",
       "  <tbody>\n",
       "    <tr>\n",
       "      <th>0</th>\n",
       "      <td>22.816448</td>\n",
       "      <td>108.332067</td>\n",
       "      <td>2009-02-04 09:57:32</td>\n",
       "      <td>0.0</td>\n",
       "      <td>023_20090204095732</td>\n",
       "      <td>023</td>\n",
       "    </tr>\n",
       "    <tr>\n",
       "      <th>1</th>\n",
       "      <td>22.815663</td>\n",
       "      <td>108.332210</td>\n",
       "      <td>2009-02-04 09:57:37</td>\n",
       "      <td>0.0</td>\n",
       "      <td>023_20090204095732</td>\n",
       "      <td>023</td>\n",
       "    </tr>\n",
       "    <tr>\n",
       "      <th>2</th>\n",
       "      <td>22.815722</td>\n",
       "      <td>108.332180</td>\n",
       "      <td>2009-02-04 09:57:42</td>\n",
       "      <td>0.0</td>\n",
       "      <td>023_20090204095732</td>\n",
       "      <td>023</td>\n",
       "    </tr>\n",
       "    <tr>\n",
       "      <th>3</th>\n",
       "      <td>22.815742</td>\n",
       "      <td>108.332167</td>\n",
       "      <td>2009-02-04 09:57:47</td>\n",
       "      <td>0.0</td>\n",
       "      <td>023_20090204095732</td>\n",
       "      <td>023</td>\n",
       "    </tr>\n",
       "    <tr>\n",
       "      <th>4</th>\n",
       "      <td>22.815738</td>\n",
       "      <td>108.332145</td>\n",
       "      <td>2009-02-04 09:57:52</td>\n",
       "      <td>0.0</td>\n",
       "      <td>023_20090204095732</td>\n",
       "      <td>023</td>\n",
       "    </tr>\n",
       "  </tbody>\n",
       "</table>\n",
       "</div>"
      ],
      "text/plain": [
       "         lat         lon            datetime  altitude_meters  \\\n",
       "0  22.816448  108.332067 2009-02-04 09:57:32              0.0   \n",
       "1  22.815663  108.332210 2009-02-04 09:57:37              0.0   \n",
       "2  22.815722  108.332180 2009-02-04 09:57:42              0.0   \n",
       "3  22.815742  108.332167 2009-02-04 09:57:47              0.0   \n",
       "4  22.815738  108.332145 2009-02-04 09:57:52              0.0   \n",
       "\n",
       "               tripId userId  \n",
       "0  023_20090204095732    023  \n",
       "1  023_20090204095732    023  \n",
       "2  023_20090204095732    023  \n",
       "3  023_20090204095732    023  \n",
       "4  023_20090204095732    023  "
      ]
     },
     "execution_count": 2,
     "metadata": {},
     "output_type": "execute_result"
    }
   ],
   "source": [
    "df = pd.read_parquet('data/geolife_trajectories_1_3.parquet')\n",
    "print(df.shape[0])\n",
    "df.head()"
   ]
  },
  {
   "cell_type": "code",
   "execution_count": 3,
   "metadata": {},
   "outputs": [],
   "source": []
  },
  {
   "cell_type": "markdown",
   "metadata": {},
   "source": [
    "# Pydeck - deck.gl python binding\n",
    "\n",
    "The pydeck library is a set of Python bindings for making spatial visualizations with deck.gl, optimized for a Jupyter Notebook environment.\n",
    "\n",
    "Lots of examples here: https://github.com/uber/deck.gl/tree/master/bindings/pydeck/examples\n"
   ]
  },
  {
   "cell_type": "markdown",
   "metadata": {},
   "source": [
    "# Load the data into pydeck"
   ]
  },
  {
   "cell_type": "code",
   "execution_count": 7,
   "metadata": {},
   "outputs": [],
   "source": [
    "# Make a smaller dataframe due to memory restraints\n",
    "df_small  = df.head(500_000)"
   ]
  },
  {
   "cell_type": "code",
   "execution_count": 13,
   "metadata": {},
   "outputs": [],
   "source": [
    "layer_hex = pdk.Layer(\n",
    "    'HexagonLayer',\n",
    "    df_small,\n",
    "    get_position=['lon', 'lat'],\n",
    "    auto_highlight=True,\n",
    "    elevation_scale=50,\n",
    "    pickable=True,\n",
    "    elevation_range=[0, 3000],\n",
    "    extruded=True,\n",
    "    coverage=1)\n",
    "\n",
    "layer_scatter = pdk.Layer(\n",
    "    'ScatterplotLayer',\n",
    "    df_small,\n",
    "    get_radius=500,\n",
    "    get_fill_color='color',\n",
    "    get_position='position')"
   ]
  },
  {
   "cell_type": "code",
   "execution_count": 11,
   "metadata": {},
   "outputs": [],
   "source": [
    "# Set the viewport location\n",
    "viewport = pdk.data_utils.compute_view(points=df_small[['lon', 'lat']], view_proportion=0.7)"
   ]
  },
  {
   "cell_type": "code",
   "execution_count": 14,
   "metadata": {},
   "outputs": [
    {
     "data": {
      "text/html": [
       "\n",
       "        <iframe\n",
       "            width=\"700\"\n",
       "            height=\"500\"\n",
       "            src=\"./data/pydeck.html\"\n",
       "            frameborder=\"0\"\n",
       "            allowfullscreen\n",
       "        ></iframe>\n",
       "        "
      ],
      "text/plain": [
       "<IPython.lib.display.IFrame at 0x7f8459679048>"
      ]
     },
     "metadata": {},
     "output_type": "display_data"
    },
    {
     "data": {
      "text/plain": [
       "'/home/tjansson/code/geospatial/data/pydeck.html'"
      ]
     },
     "execution_count": 14,
     "metadata": {},
     "output_type": "execute_result"
    }
   ],
   "source": [
    "# Render\n",
    "r = pdk.Deck(layers=[layer_hex, layer_scatter], initial_view_state=viewport)\n",
    "r.to_html('data/pydeck.html')"
   ]
  },
  {
   "cell_type": "code",
   "execution_count": null,
   "metadata": {},
   "outputs": [],
   "source": []
  }
 ],
 "metadata": {
  "kernelspec": {
   "display_name": "Python 3",
   "language": "python",
   "name": "python3"
  },
  "language_info": {
   "codemirror_mode": {
    "name": "ipython",
    "version": 3
   },
   "file_extension": ".py",
   "mimetype": "text/x-python",
   "name": "python",
   "nbconvert_exporter": "python",
   "pygments_lexer": "ipython3",
   "version": "3.7.3"
  }
 },
 "nbformat": 4,
 "nbformat_minor": 4
}
