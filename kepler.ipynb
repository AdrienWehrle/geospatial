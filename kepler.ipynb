{
 "cells": [
  {
   "cell_type": "code",
   "execution_count": 1,
   "metadata": {},
   "outputs": [],
   "source": [
    "import numpy as np\n",
    "import tqdm\n",
    "import pandas as pd\n",
    "from keplergl import KeplerGl\n",
    "import os\n",
    "\n",
    "os.environ['MAPBOX_API_KEY'] = \"...\" # Input something"
   ]
  },
  {
   "cell_type": "markdown",
   "metadata": {},
   "source": [
    "# Process data"
   ]
  },
  {
   "cell_type": "code",
   "execution_count": 17,
   "metadata": {},
   "outputs": [
    {
     "name": "stdout",
     "output_type": "stream",
     "text": [
      "2713374\n",
      "5000\n"
     ]
    },
    {
     "data": {
      "text/html": [
       "<div>\n",
       "<style scoped>\n",
       "    .dataframe tbody tr th:only-of-type {\n",
       "        vertical-align: middle;\n",
       "    }\n",
       "\n",
       "    .dataframe tbody tr th {\n",
       "        vertical-align: top;\n",
       "    }\n",
       "\n",
       "    .dataframe thead th {\n",
       "        text-align: right;\n",
       "    }\n",
       "</style>\n",
       "<table border=\"1\" class=\"dataframe\">\n",
       "  <thead>\n",
       "    <tr style=\"text-align: right;\">\n",
       "      <th></th>\n",
       "      <th>lat</th>\n",
       "      <th>lon</th>\n",
       "      <th>datetime</th>\n",
       "      <th>altitude</th>\n",
       "      <th>tripId</th>\n",
       "      <th>userId</th>\n",
       "    </tr>\n",
       "  </thead>\n",
       "  <tbody>\n",
       "    <tr>\n",
       "      <th>9883202</th>\n",
       "      <td>39.984107</td>\n",
       "      <td>116.306776</td>\n",
       "      <td>2008-06-10 13:24:28</td>\n",
       "      <td>4.8768</td>\n",
       "      <td>052_20080610105630</td>\n",
       "      <td>052</td>\n",
       "    </tr>\n",
       "    <tr>\n",
       "      <th>10774159</th>\n",
       "      <td>39.989632</td>\n",
       "      <td>116.190837</td>\n",
       "      <td>2011-10-22 03:31:13</td>\n",
       "      <td>0.0000</td>\n",
       "      <td>141_20111022031803</td>\n",
       "      <td>141</td>\n",
       "    </tr>\n",
       "    <tr>\n",
       "      <th>16913240</th>\n",
       "      <td>38.438052</td>\n",
       "      <td>114.836355</td>\n",
       "      <td>2007-10-22 03:07:14</td>\n",
       "      <td>60.9600</td>\n",
       "      <td>010_20071021110759</td>\n",
       "      <td>010</td>\n",
       "    </tr>\n",
       "    <tr>\n",
       "      <th>13227755</th>\n",
       "      <td>7.745154</td>\n",
       "      <td>98.373336</td>\n",
       "      <td>2009-03-24 06:13:45</td>\n",
       "      <td>-18.5928</td>\n",
       "      <td>144_20090324004422</td>\n",
       "      <td>144</td>\n",
       "    </tr>\n",
       "    <tr>\n",
       "      <th>10826495</th>\n",
       "      <td>39.975078</td>\n",
       "      <td>116.339417</td>\n",
       "      <td>2011-10-22 09:12:43</td>\n",
       "      <td>0.0000</td>\n",
       "      <td>141_20111022031803</td>\n",
       "      <td>141</td>\n",
       "    </tr>\n",
       "  </tbody>\n",
       "</table>\n",
       "</div>"
      ],
      "text/plain": [
       "                lat         lon            datetime  altitude  \\\n",
       "9883202   39.984107  116.306776 2008-06-10 13:24:28    4.8768   \n",
       "10774159  39.989632  116.190837 2011-10-22 03:31:13    0.0000   \n",
       "16913240  38.438052  114.836355 2007-10-22 03:07:14   60.9600   \n",
       "13227755   7.745154   98.373336 2009-03-24 06:13:45  -18.5928   \n",
       "10826495  39.975078  116.339417 2011-10-22 09:12:43    0.0000   \n",
       "\n",
       "                      tripId userId  \n",
       "9883202   052_20080610105630    052  \n",
       "10774159  141_20111022031803    141  \n",
       "16913240  010_20071021110759    010  \n",
       "13227755  144_20090324004422    144  \n",
       "10826495  141_20111022031803    141  "
      ]
     },
     "execution_count": 17,
     "metadata": {},
     "output_type": "execute_result"
    }
   ],
   "source": [
    "df_raw = pd.read_parquet('data/small.parquet')\n",
    "print(df_raw.shape[0])\n",
    "\n",
    "# Reshape to kepler\n",
    "df = df_raw.sample(5000)\n",
    "print(df.shape[0])\n",
    "df.rename(columns={'altitude_meters': 'altitude'}, inplace=True)\n",
    "df.head()\n"
   ]
  },
  {
   "cell_type": "code",
   "execution_count": 18,
   "metadata": {},
   "outputs": [
    {
     "name": "stdout",
     "output_type": "stream",
     "text": [
      "User Guide: https://github.com/keplergl/kepler.gl/blob/master/docs/keplergl-jupyter/user-guide.md\n"
     ]
    },
    {
     "data": {
      "application/vnd.jupyter.widget-view+json": {
       "model_id": "83e6b40ff89f49399d1b4f7b77563a8b",
       "version_major": 2,
       "version_minor": 0
      },
      "text/plain": [
       "KeplerGl(config={'version': 'v1', 'config': {'mapState': {'latitude': 38.967610166666645, 'longitude': 116.208…"
      ]
     },
     "metadata": {},
     "output_type": "display_data"
    }
   ],
   "source": [
    "config = {\n",
    "    'version': 'v1',\n",
    "    'config': {\n",
    "        'mapState': {\n",
    "            'latitude': df.lat.median(),\n",
    "            'longitude': df.lon.median(),\n",
    "            'zoom': 5\n",
    "        }\n",
    "    }\n",
    "}\n",
    "\n",
    "keplermap = KeplerGl(height=900, config=config)\n",
    "\n",
    "# Add the data\n",
    "keplermap.add_data(data=df, name='data1', )\n",
    "\n",
    "keplermap"
   ]
  },
  {
   "cell_type": "code",
   "execution_count": 19,
   "metadata": {},
   "outputs": [
    {
     "data": {
      "text/plain": [
       "{'version': 'v1',\n",
       " 'config': {'visState': {'filters': [],\n",
       "   'layers': [{'id': 'bwqhcq',\n",
       "     'type': 'point',\n",
       "     'config': {'dataId': 'data1',\n",
       "      'label': 'Point',\n",
       "      'color': [18, 147, 154],\n",
       "      'columns': {'lat': 'lat', 'lng': 'lon', 'altitude': None},\n",
       "      'isVisible': True,\n",
       "      'visConfig': {'radius': 10,\n",
       "       'fixedRadius': False,\n",
       "       'opacity': 0.8,\n",
       "       'outline': False,\n",
       "       'thickness': 2,\n",
       "       'strokeColor': None,\n",
       "       'colorRange': {'name': 'Global Warming',\n",
       "        'type': 'sequential',\n",
       "        'category': 'Uber',\n",
       "        'colors': ['#5A1846',\n",
       "         '#900C3F',\n",
       "         '#C70039',\n",
       "         '#E3611C',\n",
       "         '#F1920E',\n",
       "         '#FFC300']},\n",
       "       'strokeColorRange': {'name': 'Global Warming',\n",
       "        'type': 'sequential',\n",
       "        'category': 'Uber',\n",
       "        'colors': ['#5A1846',\n",
       "         '#900C3F',\n",
       "         '#C70039',\n",
       "         '#E3611C',\n",
       "         '#F1920E',\n",
       "         '#FFC300']},\n",
       "       'radiusRange': [0, 50],\n",
       "       'filled': True},\n",
       "      'textLabel': [{'field': None,\n",
       "        'color': [255, 255, 255],\n",
       "        'size': 18,\n",
       "        'offset': [0, 0],\n",
       "        'anchor': 'start',\n",
       "        'alignment': 'center'}]},\n",
       "     'visualChannels': {'colorField': None,\n",
       "      'colorScale': 'quantile',\n",
       "      'strokeColorField': None,\n",
       "      'strokeColorScale': 'quantile',\n",
       "      'sizeField': None,\n",
       "      'sizeScale': 'linear'}}],\n",
       "   'interactionConfig': {'tooltip': {'fieldsToShow': {'data1': ['datetime',\n",
       "       'altitude',\n",
       "       'tripId',\n",
       "       'userId']},\n",
       "     'enabled': True},\n",
       "    'brush': {'size': 0.5, 'enabled': False}},\n",
       "   'layerBlending': 'normal',\n",
       "   'splitMaps': [],\n",
       "   'animationConfig': {'currentTime': None, 'speed': 1}},\n",
       "  'mapState': {'bearing': 0,\n",
       "   'dragRotate': False,\n",
       "   'latitude': 38.967610166666645,\n",
       "   'longitude': 116.2087899333335,\n",
       "   'pitch': 0,\n",
       "   'zoom': 5,\n",
       "   'isSplit': False},\n",
       "  'mapStyle': {'styleType': 'dark',\n",
       "   'topLayerGroups': {},\n",
       "   'visibleLayerGroups': {'label': True,\n",
       "    'road': True,\n",
       "    'border': False,\n",
       "    'building': True,\n",
       "    'water': True,\n",
       "    'land': True,\n",
       "    '3d building': False},\n",
       "   'threeDBuildingColor': [9.665468314072013,\n",
       "    17.18305478057247,\n",
       "    31.1442867897876],\n",
       "   'mapStyles': {}}}}"
      ]
     },
     "execution_count": 19,
     "metadata": {},
     "output_type": "execute_result"
    }
   ],
   "source": [
    "keplermap.config"
   ]
  },
  {
   "cell_type": "code",
   "execution_count": 15,
   "metadata": {},
   "outputs": [],
   "source": [
    "# save current map\n",
    "#keplermap.save_to_html(file_name=\"data/keplerglmap.html\")"
   ]
  }
 ],
 "metadata": {
  "kernelspec": {
   "display_name": "Python 3",
   "language": "python",
   "name": "python3"
  },
  "language_info": {
   "codemirror_mode": {
    "name": "ipython",
    "version": 3
   },
   "file_extension": ".py",
   "mimetype": "text/x-python",
   "name": "python",
   "nbconvert_exporter": "python",
   "pygments_lexer": "ipython3",
   "version": "3.7.3"
  }
 },
 "nbformat": 4,
 "nbformat_minor": 4
}
